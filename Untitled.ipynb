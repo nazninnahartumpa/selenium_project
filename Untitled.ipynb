{
 "cells": [
  {
   "cell_type": "code",
   "execution_count": 40,
   "id": "operating-voltage",
   "metadata": {},
   "outputs": [],
   "source": [
    "from selenium import webdriver\n",
    "from selenium.webdriver.chrome.options import Options\n",
    "from selenium.common.exceptions import NoSuchElementException\n",
    "import time"
   ]
  },
  {
   "cell_type": "code",
   "execution_count": 41,
   "id": "consistent-passion",
   "metadata": {},
   "outputs": [],
   "source": [
    "b = webdriver.Chrome(\"E:\\\\test_scrapy\\scrappy_test_prj\\scrappy_test_prj\\\\chromedriver.exe\")\n",
    "b.get(\"https://evaly.com.bd/shops\")\n",
    "#link = b.find_element_by_xpath(\"//span[@class='whitespace-no-wrap']\").click()\n",
    "# view_more = b.find_element_by_xpath(\"//span[@class='whitespace-no-wrap']a\").click()\n",
    "# print(view_more)\n",
    "\n",
    "view_more = b.find_element_by_xpath(\"//span[@class='whitespace-no-wrap']\").click()\n",
    "link_tag_list = b.find_elements_by_xpath('//div[@class=\"shops__Grid-sc-1q87oqt-0 dDPvYk my-4\"]//a')\n",
    "link_list = [link.get_attribute(\"href\") for link in link_tag_list]\n",
    "\n",
    "# while True:\n",
    "#     try:\n",
    "#         view_more = b.find_element_by_xpath(\"//span[@class='whitespace-no-wrap']\").click()\n",
    "#         link_tag_list = b.find_elements_by_xpath('//div[@class=\"shops__Grid-sc-1q87oqt-0 dDPvYk my-4\"]//a')\n",
    "#         link_list = [link.get_attribute(\"href\") for link in link_tag_list]\n",
    "#         print(link_list)\n",
    "#     except NoSuchElementException:\n",
    "#         break\n"
   ]
  },
  {
   "cell_type": "code",
   "execution_count": 5,
   "id": "radical-atmosphere",
   "metadata": {},
   "outputs": [],
   "source": [
    "# try:\n",
    "#     element = WebDriverWait(driver, 1000).untill(\n",
    "#         EC.find_element_by_xpath(\"//span[@class='whitespace-no-wrap']\").click()\n",
    "#     )"
   ]
  },
  {
   "cell_type": "code",
   "execution_count": 6,
   "id": "military-sight",
   "metadata": {},
   "outputs": [],
   "source": [
    "# while True:\n",
    "#     time.sleep(1.75)\n",
    "#     try:\n",
    "#         view_more = b.find_element_by_xpath(\"//span[@class='whitespace-no-wrap']\").click()\n",
    "#         # driver.find_element_by_xpath('//a[@id=\"close_entrance_terms\"]').click()\n",
    "#         # view_more.click()\n",
    "#     except NoSuchElementException:\n",
    "#         break\n",
    "# doc = b.page_source\n",
    "# print(doc)\n",
    "# data = drive.page_source\n",
    "# print('data', data)"
   ]
  },
  {
   "cell_type": "code",
   "execution_count": 7,
   "id": "dried-decrease",
   "metadata": {},
   "outputs": [
    {
     "name": "stdout",
     "output_type": "stream",
     "text": [
      "<selenium.webdriver.remote.webelement.WebElement (session=\"c0a40c1caad2339946826e84f0d44436\", element=\"b4829106-25b2-41e0-984d-caeda8c3a629\")>\n"
     ]
    }
   ],
   "source": [
    "#view_more = b.find_elements_by_class(\"whitespace-no-wrap\")\n",
    "# view_more = b.find_element_by_class_name(\"whitespace-no-wrap\")\n",
    "# print(view_more)"
   ]
  },
  {
   "cell_type": "code",
   "execution_count": null,
   "id": "genetic-nelson",
   "metadata": {},
   "outputs": [],
   "source": []
  }
 ],
 "metadata": {
  "kernelspec": {
   "display_name": "Python 3",
   "language": "python",
   "name": "python3"
  },
  "language_info": {
   "codemirror_mode": {
    "name": "ipython",
    "version": 3
   },
   "file_extension": ".py",
   "mimetype": "text/x-python",
   "name": "python",
   "nbconvert_exporter": "python",
   "pygments_lexer": "ipython3",
   "version": "3.7.9"
  }
 },
 "nbformat": 4,
 "nbformat_minor": 5
}
